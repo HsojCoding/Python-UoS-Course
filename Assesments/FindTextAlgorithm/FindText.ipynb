{
 "cells": [
  {
   "cell_type": "markdown",
   "metadata": {
    "collapsed": false
   },
   "source": [
    "## String pattern searching\n",
    "Text or string searching algorithms are an ubiquitous feature of our lives. Whether it is an internet search, a Ctrl+F search or even more automated data processing, string data matching is everywhere. \n",
    "\n",
    "The fundamental string searching problem is defined as follows: given two strings - a text and a pattern, determine whether the pattern appears in the text. \n",
    "\n",
    "For a given text and some search pattern, a naive search approach is to start with the first character in the text and move forward matching against the search pattern. This is repeated until the end of the text or all characters from the search pattern match.\n",
    "\n",
    "In the example below, we can see that the text is the string \"HELHELLO\" and that the search pattern is \"HELO\".\n",
    "\n",
    "![Image](https://www.globalsoftwaresupport.com/wp-content/uploads/2017/04/ezgif.com-crop.gif)\n",
    "\n",
    "A naive search algorithm would identify that the pattern 'HELO' was found starting at index 3 of the \"HELHELLO\" string. You can see that this could be accomplished either by matching letter by letter or by matching the full search pattern.\n",
    "\n",
    "As per the last assessment, you are free to use your own notes and programmes, the lecture notes and the lecture videos to complete the parts below. \n",
    "\n",
    "Please enter your final code for each part in the spaces provided. \n",
    "\n",
    "Please ask any questions in the BlackBoard Collaborate meeting window. "
   ]
  },
  {
   "cell_type": "markdown",
   "metadata": {
    "collapsed": false
   },
   "source": [
    "### Part 1. Plan and create the string searching algorithm [30 Marks]\n",
    "Develop a naive string searching algorithm to search for a string pattern in another string.\n",
    "\n",
    "- Use the above strings as an example\n",
    "\n",
    "- The algorithm should only need to find the first instance of the search string\n",
    "\n",
    "- Once you have devised the logic, implement your algorithm as a Python function called 'FindText'.\n",
    "\n",
    "- The function should accept two string arguments, `text` and `pattern`\n",
    "\n",
    "- If the pattern is found within the text, the function should return the starting index\n",
    "    - for example `FindText('HelloWorld', 'World')` would return the value 5\n",
    "\n",
    "- Otherwise, if not found, the function should return the string \"substring not found\"\n",
    "\n",
    "If your algorithm is not working, please use the inbuilt string searching method `.index()` or `.find()` to complete the reminder of the assessment.\n"
   ]
  },
  {
   "cell_type": "code",
   "execution_count": 1,
   "metadata": {
    "collapsed": false
   },
   "outputs": [
    {
     "data": {
      "text/plain": [
       "5"
      ]
     },
     "execution_count": 1,
     "metadata": {
     },
     "output_type": "execute_result"
    }
   ],
   "source": [
    "# Example of builtin search method\n",
    "text = \"HelloWorld\"\n",
    "text.index(\"World\")"
   ]
  },
  {
   "cell_type": "code",
   "execution_count": 11,
   "metadata": {
    "collapsed": false
   },
   "outputs": [
    {
     "name": "stdout",
     "output_type": "stream",
     "text": [
      "[16, 30]\n",
      "Substring Not Found\n"
     ]
    }
   ],
   "source": [
    "# Part 1 Code\n",
    "def findText(text, pattern):\n",
    "    '''Will search through text to find the provided pattern and return any starting positions of the pattern found to a list, or return string Substring Not Found'''\n",
    "    textLength = len(text)\n",
    "    patternLength = len(pattern)\n",
    "    j = -1\n",
    "    nf = \"Substring Not Found\"\n",
    "    positions = []\n",
    "    #sets up constants that will need to be used in the following code\n",
    "    for _ in range(0, textLength): # makes sure to scan through the entire text\n",
    "        j+= 1 # provides the position of the first number being scanned, will be called on later to provide the starting position if it is found\n",
    "        if pattern==text[j:j+patternLength]: # checks if the pattern is within the text from each starting point to the length of the pattern\n",
    "            positions.append(j) # this accounts for multiple instances of the pattern being present and appending all starting points to a list\n",
    "    if len(positions) == 0:\n",
    "        positions = nf\n",
    "    # if there are zero starting points, not found will be returned\n",
    "    return positions\n",
    "\n",
    "\n",
    "text = \"The reticulated python (Malayopython reticulatus) is a species of snake in the family Pythonidae\"\n",
    "pattern = 'python'\n",
    "print(findText(text, pattern))\n",
    "\n",
    "text = \"The reticulated python (Malayopython reticulatus) is a species of snake in the family Pythonidae\"\n",
    "pattern = 'cashew nut'\n",
    "print(findText(text, pattern))"
   ]
  },
  {
   "cell_type": "markdown",
   "metadata": {
    "collapsed": false
   },
   "source": [
    "### Part 2. Time the algorithm [10 Marks]\n",
    "Apply your function to search for the pattern 'python' in the string \"The reticulated python (Malayopython reticulatus) is a species of snake in the family Pythonidae\".\n",
    "\n",
    "- Measure the time required for the 'FindText' function to perform the search\n",
    "\n",
    "- Print the time required in milliseconds with 2 decimal places\n",
    "\n",
    "    - Also for comparison, print the time required using the builtin method"
   ]
  },
  {
   "cell_type": "code",
   "execution_count": 3,
   "metadata": {
    "collapsed": false
   },
   "outputs": [
    {
     "name": "stdout",
     "output_type": "stream",
     "text": [
      "[16, 30]\n",
      "0.90\n"
     ]
    }
   ],
   "source": [
    "# Part 2 Code\n",
    "import time\n",
    "text = \"The reticulated python (Malayopython reticulatus) is a species of snake in the family Pythonidae\"\n",
    "pattern = 'python'\n",
    "start = time.time() # starts timer\n",
    "x=findText(text, \"python\")\n",
    "print(x)\n",
    "end = time.time() # ends timer\n",
    "timetaken = (end - start)*1000 # calculates time taken and converts to miliseconds\n",
    "print(\"%.2f\" % timetaken)"
   ]
  },
  {
   "cell_type": "markdown",
   "metadata": {
    "collapsed": false
   },
   "source": [
    "### Part 3: Adapt your algorithm to find multiple instances [10 Marks]\n",
    "Currently, the FindText function only finds the first instance of the search string. In many cases, we would expect that the text could contain multiple instances of the search string.\n",
    "\n",
    "Develop your `FindText` function so that it can find multiple identifies of the search index.\n",
    "\n",
    "Call this new function `FindAll`. It should have the same arguments as FindText but return a list of all the starting positions of the search text. \n",
    "\n",
    "For example, `FindAll('HelloWorld Hello World', 'World')` would return [5, 17]. \n",
    "\n",
    "If your original `FindText` function already does this, then great you can skip this part."
   ]
  },
  {
   "cell_type": "code",
   "execution_count": 4,
   "metadata": {
    "collapsed": false
   },
   "outputs": [
   ],
   "source": [
    "# Part 3 Code\n",
    "\n",
    "# already accounted for\n"
   ]
  },
  {
   "cell_type": "markdown",
   "metadata": {
    "collapsed": false
   },
   "source": [
    "If your `Findall` function is not working, please use this builtin method. The regular expression module `re` contains powerful pattern matching functions. A `try/except` clause is included here to deal with the error when the search is unsuccessful. If successful, the positions are stored in a tuple. "
   ]
  },
  {
   "cell_type": "code",
   "execution_count": 5,
   "metadata": {
    "collapsed": false
   },
   "outputs": [
   ],
   "source": [
    "# Import the regular expression module\n",
    "import re \n",
    "text = 'HelloWorld Hello World'\n",
    "pattern = 'World'\n",
    "\n",
    "try:\n",
    "    s = re.search(pattern, text).span()\n",
    "except: \n",
    "    s = \"Substring not found\"\n",
    "\n",
    "\n"
   ]
  },
  {
   "cell_type": "markdown",
   "metadata": {
    "collapsed": false
   },
   "source": [
    "### Part 4: Creating Random Strings [15 marks]\n",
    "To fully test our search algorithm, we will need to create strings of random characters. \n",
    "\n",
    "To make it interesting, we will create strings containing only a random sequence of the DNA base characters 'T', 'A', 'G' and 'C'.\n",
    "\n",
    "Write a function called `randDNA` which takes a single integer argument `n` and returns a string of length `n`. The string should be a random sequence of the DNA bases. \n",
    "\n",
    "For example, randDNA(20) could return the string 'AACTCGGGGGATGCGATATG'. "
   ]
  },
  {
   "cell_type": "code",
   "execution_count": 6,
   "metadata": {
    "collapsed": false
   },
   "outputs": [
   ],
   "source": [
    "# Part 4 Code\n",
    "import numpy as np\n",
    "def randDNA(x):\n",
    "    \"\"\"This function will generate a string of letters, A C T or G, at equally random chances to a specified length of x\"\"\"\n",
    "    randStr = \"\"\n",
    "    stringVal = \"\"\n",
    "    # initialises variables\n",
    "    for _ in range(0, x):\n",
    "        # this section will produce and equally likely chance of any letter being used\n",
    "        rand = np.random.random()\n",
    "        if 0 <= rand <= 0.25:\n",
    "            stringVal = \"A\"\n",
    "        elif 0.25 <= rand <= 0.5:\n",
    "            stringVal = \"G\"\n",
    "        elif 0.5 <= rand <= 0.75:\n",
    "            stringVal = \"C\"\n",
    "        else:\n",
    "            stringVal=\"T\"\n",
    "            \n",
    "        randStr+=stringVal\n",
    "        # produces the random string by adding the random value to the existing string within the for loop\n",
    "    return randStr"
   ]
  },
  {
   "cell_type": "markdown",
   "metadata": {
    "collapsed": false
   },
   "source": [
    "### Part 5. Analyse the algorithm efficiency [15 Marks]\n",
    "As we described in the final lecture, analyse the algorithm for different job sizes.\n",
    "\n",
    "- Vary the length $n$ of the DNA sequence from 10-1000 bases\n",
    "- Search for the sequence 'AGTC'        \n",
    "- Measure the completion time $T(n)$ \n",
    "- Visualise $T(n)$ as a graph\n",
    "\n"
   ]
  },
  {
   "cell_type": "markdown",
   "metadata": {
    "collapsed": false
   },
   "source": [
    "If your random string function is not working,  try using this string of 1000 DNA bases."
   ]
  },
  {
   "cell_type": "code",
   "execution_count": 7,
   "metadata": {
    "collapsed": false
   },
   "outputs": [
   ],
   "source": [
    "text = 'AGCGCATAGGGGTCGGGTTCACACCGTCATTCGGTCCATGGTAATCTCTAAGCCGTATCATACAACTCCACGCAGTAGTATGAGCTAACAATGTAGTTGCGGGCACCCGATACCACAACGCTTAGGGTAGCCTCGGATACCACAATCTTACGAGAACAGCCCGCTCGCTTTTAATTTACCTAGAAAGTTTACAAACACTTGAACCTTGTGTATGGAGGAGTTCAGTAGCTCGCAAGCCCTTATAGTACGAAGAACCACATGAACGTAATTGTTACGGGATAATATGCAATCCTGAACCCAAGGTTGCTTACACTCATAGTACGCATTGGTTTTAGTCGGCAGACTTCAACGACGTGACCCTGATCCCAAGTTGTCAATTGCCCCCGCGCAGCACGAAAATTAGATCTTTCCCCCGTCATCGTTTGTGGTGGAATCCTGGGTATTTGCCAACCTAGAGCAGCGTAAACATTAATGCTATCATCTAGCTTTCACAATTATACCAGGTGGTCGAGAGGAGGTCCTAATGGATACAATTGCCCCGCTACAGTCCGCCTGGGTCATGTGAGTGGTGAAGATCTTAGACTCTGTAGGATATCAGCGCAAATCTCAACTCGAAGTGCCACAACTCCCCTGCTTAGCGTACAAGCAGCTCAGCAAACTGATGGTGTCAGTTTAGATCAGAGTTAGGTCAGAATGCTAACAACGTGTACGATTGCCTGGAGGATGAGATTATGACTTGCGCCAGCGGACATCCCCGCTTCCCCGAGCGGCTCACAACAACATGGCCGCTTGAAGCTAAGGCATGTGGGTGGTGGCAGGCGTGTTTTGAATGCGGCTGATCACAAATAAGCCTTGTGCCATCCAAGTTGGGATAACGGTTGCCTATCGCGCGTAGCTGTATTCCAAGCTACTTCCGCAAATTTACTGCTTAGCCACCCAAGAGTAGACGCTTGGCTACTTAGTACCATGATCTGCGAAGCCGTCTTTAACGGTCCACATT'\n"
   ]
  },
  {
   "cell_type": "code",
   "execution_count": 8,
   "metadata": {
    "collapsed": false
   },
   "outputs": [
    {
     "name": "stdout",
     "output_type": "stream",
     "text": [
      "[5.4836273193359375e-06, 1.430511474609375e-06, 9.5367431640625e-07, 7.152557373046875e-07, 7.152557373046875e-07, 1.1920928955078125e-06, 1.430511474609375e-06, 9.5367431640625e-07, 1.1920928955078125e-06, 9.5367431640625e-07, 9.5367431640625e-07, 7.152557373046875e-07, 9.5367431640625e-07, 1.1920928955078125e-06, 9.5367431640625e-07, 9.5367431640625e-07, 1.1920928955078125e-06, 1.1920928955078125e-06, 9.5367431640625e-07, 9.5367431640625e-07]\n"
     ]
    },
    {
     "data": {
      "text/plain": [
       "[<matplotlib.lines.Line2D at 0x7f24e5c066d0>]"
      ]
     },
     "execution_count": 8,
     "metadata": {
     },
     "output_type": "execute_result"
    },
    {
     "data": {
      "image/png": "[encoded data removed]",
      "text/plain": [
       "<Figure size 864x504 with 1 Axes>"
      ]
     },
     "execution_count": 8,
     "metadata": {
      "image/png": {
       "height": 421,
       "width": 705
      },
      "needs_background": "light"
     },
     "output_type": "execute_result"
    }
   ],
   "source": [
    "# Part 5 Code\n",
    "import time\n",
    "\n",
    "testStrings = []\n",
    "bases = []\n",
    "times = []\n",
    "# Declare empty lists to add to\n",
    "\n",
    "for i in range(10, 1010, 50):\n",
    "    appString = randDNA(i)\n",
    "    testStrings.append(appString)\n",
    "    bases.append(i)\n",
    "# This for loop generates all of the test strings and provides the list for the x-axis by appending the number of values in a string to bases\n",
    "\n",
    "for i in testStrings:\n",
    "    start = time.time()\n",
    "    findText(\"AGTC\", i)\n",
    "    end = time.time()\n",
    "    totalTime = end - start\n",
    "    times.append(totalTime)\n",
    "print(times)\n",
    "\n",
    "# This for loop times how long it takes for the function to run on each string\n",
    "\n",
    "import matplotlib.pyplot as plt\n",
    "plt.plot(bases, times)\n",
    "\n",
    "# Plots bases against times to visualise how the function changes with length\n",
    "\n",
    "# The first time is always longer for some reason i think it may just be the code initialising or something, but in general it seems to stay around the same time otherwise"
   ]
  },
  {
   "cell_type": "markdown",
   "metadata": {
    "collapsed": false
   },
   "source": [
    "### Part 6: Apply to a file [10 Marks]\n",
    "\n",
    "(a) Apply your `FindAll` function to a file of text: \n",
    "\n",
    "- The file `ChristmasCarolExtract.txt` contains a chapter of text from a novel\n",
    "- Locate all the instances of the string 'Scrooge' in this chapter\n",
    "\n",
    "(b) Save the results of the search to a file called \"Scrooge.txt\". Format the results as a column with integer values of length 5.\n",
    "\n",
    "    \n",
    "### Good practice [10 marks]"
   ]
  },
  {
   "cell_type": "code",
   "execution_count": 9,
   "metadata": {
    "collapsed": false
   },
   "outputs": [
    {
     "data": {
      "text/plain": [
       "313"
      ]
     },
     "execution_count": 9,
     "metadata": {
     },
     "output_type": "execute_result"
    }
   ],
   "source": [
    "# Part 6 Code\n",
    "\n",
    "text = open(\"ChristmasCarolExtract.txt\", \"r\").read() # Reads the file to a variable text\n",
    "\n",
    "results = findText(text, \"Scrooge\") # Searches text for Scrooge and saves to a variable\n",
    "\n",
    "resultsStr = str(results) # Turns results to string ready for writing to a file\n",
    "\n",
    "open(\"Scrooge.txt\", \"w\").write(resultsStr) # Writes the results string to a file"
   ]
  }
 ],
 "metadata": {
  "kernelspec": {
   "display_name": "Python 3 (Anaconda 2020)",
   "env": {
    "ADDR2LINE": "/ext/anaconda2020.02/bin/x86_64-conda_cos6-linux-gnu-addr2line",
    "ANACONDA2019": "$EXT/anaconda-2019.03",
    "ANACONDA2020": "/ext/anaconda2020.02",
    "ANACONDA3": "$EXT/anaconda3",
    "ANACONDA5": "$EXT/anaconda5",
    "AR": "/ext/anaconda2020.02/bin/x86_64-conda_cos6-linux-gnu-ar",
    "AS": "/ext/anaconda2020.02/bin/x86_64-conda_cos6-linux-gnu-as",
    "CC": "/ext/anaconda2020.02/bin/x86_64-conda_cos6-linux-gnu-cc",
    "CFLAGS": "-march=nocona -mtune=haswell -ftree-vectorize -fPIC -fstack-protector-strong -fno-plt -O2 -ffunction-sections -pipe -isystem /ext/anaconda2020.02/include",
    "CMAKE_PREFIX_PATH": "/ext/anaconda2020.02:/ext/anaconda2020.02/x86_64-conda_cos6-linux-gnu/sysroot/usr",
    "CONDA_BACKUP_HOST": "x86_64-conda_cos6-linux-gnu",
    "CONDA_BUILD_SYSROOT": "/ext/anaconda2020.02/x86_64-conda_cos6-linux-gnu/sysroot",
    "CONDA_DEFAULT_ENV": "base",
    "CONDA_EXE": "/ext/anaconda2020.02/bin/conda",
    "CONDA_MKL_INTERFACE_LAYER_BACKUP": "",
    "CONDA_PREFIX": "/ext/anaconda2020.02",
    "CONDA_PROMPT_MODIFIER": "(base) ",
    "CONDA_PYTHON_EXE": "/ext/anaconda2020.02/bin/python",
    "CONDA_SHLVL": "1",
    "CPP": "/ext/anaconda2020.02/bin/x86_64-conda_cos6-linux-gnu-cpp",
    "CPPFLAGS": "-DNDEBUG -D_FORTIFY_SOURCE=2 -O2 -isystem /ext/anaconda2020.02/include",
    "CXX": "/ext/anaconda2020.02/bin/x86_64-conda_cos6-linux-gnu-c++",
    "CXXFILT": "/ext/anaconda2020.02/bin/x86_64-conda_cos6-linux-gnu-c++filt",
    "CXXFLAGS": "-fvisibility-inlines-hidden -std=c++17 -fmessage-length=0 -march=nocona -mtune=haswell -ftree-vectorize -fPIC -fstack-protector-strong -fno-plt -O2 -ffunction-sections -pipe -isystem /ext/anaconda2020.02/include",
    "DEBUG_CFLAGS": "-march=nocona -mtune=haswell -ftree-vectorize -fPIC -fstack-protector-all -fno-plt -Og -g -Wall -Wextra -fvar-tracking-assignments -ffunction-sections -pipe -isystem /ext/anaconda2020.02/include",
    "DEBUG_CPPFLAGS": "-D_DEBUG -D_FORTIFY_SOURCE=2 -Og -isystem /ext/anaconda2020.02/include",
    "DEBUG_CXXFLAGS": "-fvisibility-inlines-hidden -std=c++17 -fmessage-length=0 -march=nocona -mtune=haswell -ftree-vectorize -fPIC -fstack-protector-all -fno-plt -Og -g -Wall -Wextra -fvar-tracking-assignments -ffunction-sections -pipe -isystem /ext/anaconda2020.02/include",
    "DEBUG_FFLAGS": "-fopenmp -march=nocona -mtune=haswell -ftree-vectorize -fPIC -fstack-protector-strong -fno-plt -O2 -ffunction-sections -pipe -isystem /ext/anaconda2020.02/include -fopenmp -march=nocona -mtune=haswell -ftree-vectorize -fPIC -fstack-protector-all -fno-plt -Og -g -Wall -Wextra -fcheck=all -fbacktrace -fimplicit-none -fvar-tracking-assignments -ffunction-sections -pipe",
    "DEBUG_FORTRANFLAGS": "-fopenmp -march=nocona -mtune=haswell -ftree-vectorize -fPIC -fstack-protector-strong -fno-plt -O2 -ffunction-sections -pipe -isystem /ext/anaconda2020.02/include -fopenmp -march=nocona -mtune=haswell -ftree-vectorize -fPIC -fstack-protector-all -fno-plt -Og -g -Wall -Wextra -fcheck=all -fbacktrace -fimplicit-none -fvar-tracking-assignments -ffunction-sections -pipe",
    "ELFEDIT": "/ext/anaconda2020.02/bin/x86_64-conda_cos6-linux-gnu-elfedit",
    "F77": "/ext/anaconda2020.02/bin/x86_64-conda_cos6-linux-gnu-gfortran",
    "F90": "/ext/anaconda2020.02/bin/x86_64-conda_cos6-linux-gnu-gfortran",
    "F95": "/ext/anaconda2020.02/bin/x86_64-conda_cos6-linux-gnu-f95",
    "FC": "/ext/anaconda2020.02/bin/x86_64-conda_cos6-linux-gnu-gfortran",
    "FFLAGS": "-fopenmp -march=nocona -mtune=haswell -ftree-vectorize -fPIC -fstack-protector-strong -fno-plt -O2 -ffunction-sections -pipe -isystem /ext/anaconda2020.02/include",
    "FORTRANFLAGS": "-fopenmp -march=nocona -mtune=haswell -ftree-vectorize -fPIC -fstack-protector-strong -fno-plt -O2 -ffunction-sections -pipe -isystem /ext/anaconda2020.02/include",
    "GCC": "/ext/anaconda2020.02/bin/x86_64-conda_cos6-linux-gnu-gcc",
    "GCC_AR": "/ext/anaconda2020.02/bin/x86_64-conda_cos6-linux-gnu-gcc-ar",
    "GCC_NM": "/ext/anaconda2020.02/bin/x86_64-conda_cos6-linux-gnu-gcc-nm",
    "GCC_RANLIB": "/ext/anaconda2020.02/bin/x86_64-conda_cos6-linux-gnu-gcc-ranlib",
    "GDAL_DATA": "/ext/anaconda2020.02/share/gdal",
    "GFORTRAN": "/ext/anaconda2020.02/bin/x86_64-conda_cos6-linux-gnu-gfortran",
    "GPROF": "/ext/anaconda2020.02/bin/x86_64-conda_cos6-linux-gnu-gprof",
    "GXX": "/ext/anaconda2020.02/bin/x86_64-conda_cos6-linux-gnu-g++",
    "JAVA_HOME": "/ext/anaconda2020.02",
    "JAVA_HOME_CONDA_BACKUP": "",
    "JAVA_LD_LIBRARY_PATH": "/ext/anaconda2020.02/lib/server",
    "LD": "/ext/anaconda2020.02/bin/x86_64-conda_cos6-linux-gnu-ld",
    "LDFLAGS": "-Wl,-O2 -Wl,--sort-common -Wl,--as-needed -Wl,-z,relro -Wl,-z,now -Wl,--disable-new-dtags -Wl,--gc-sections -Wl,-rpath,/ext/anaconda2020.02/lib -Wl,-rpath-link,/ext/anaconda2020.02/lib -L/ext/anaconda2020.02/lib",
    "LD_GOLD": "/ext/anaconda2020.02/bin/x86_64-conda_cos6-linux-gnu-ld.gold",
    "LD_LIBRARY_PATH": "/ext/anaconda2020.02/lib",
    "MKL_INTERFACE_LAYER": "LP64,GNU",
    "MKL_THREADING_LAYER": "GNU",
    "NM": "/ext/anaconda2020.02/bin/x86_64-conda_cos6-linux-gnu-nm",
    "OBJCOPY": "/ext/anaconda2020.02/bin/x86_64-conda_cos6-linux-gnu-objcopy",
    "OBJDUMP": "/ext/anaconda2020.02/bin/x86_64-conda_cos6-linux-gnu-objdump",
    "OLDPWD": "/ext/anaconda2020.02",
    "PATH": "/ext/anaconda2020.02/bin:/ext/anaconda2020.02/bin:/ext/anaconda2020.02/condabin:/cocalc/bin:/cocalc/src/smc-project/bin:/home/salvus/bin:/home/salvus/.local/bin:/usr/lib/xpra:/ext/bin:/opt/ghc/bin:/usr/local/sbin:/usr/local/bin:/usr/sbin:/usr/bin:/sbin:/bin:/snap/bin:/usr/lib/postgresql/10/bin:/ext/data/homer/bin:/ext/data/weblogo",
    "PROJ_LIB": "/ext/anaconda2020.02/share/proj",
    "RANLIB": "/ext/anaconda2020.02/bin/x86_64-conda_cos6-linux-gnu-ranlib",
    "READELF": "/ext/anaconda2020.02/bin/x86_64-conda_cos6-linux-gnu-readelf",
    "RSTUDIO_WHICH_R": "/ext/anaconda2020.02/bin/R",
    "SIZE": "/ext/anaconda2020.02/bin/x86_64-conda_cos6-linux-gnu-size",
    "STRINGS": "/ext/anaconda2020.02/bin/x86_64-conda_cos6-linux-gnu-strings",
    "STRIP": "/ext/anaconda2020.02/bin/x86_64-conda_cos6-linux-gnu-strip",
    "_CE_CONDA": "",
    "_CE_M": "",
    "_CONDA_PYTHON_SYSCONFIGDATA_NAME": "_sysconfigdata_x86_64_conda_cos6_linux_gnu"
   },
   "language": "python",
   "metadata": {
    "cocalc": {
     "description": "Python/R distribution for data science",
     "priority": 5,
     "url": "https://www.anaconda.com/distribution/"
    }
   },
   "name": "anaconda2020",
   "resource_dir": "/ext/jupyter/kernels/anaconda2020"
  },
  "language_info": {
   "codemirror_mode": {
    "name": "ipython",
    "version": 3
   },
   "file_extension": ".py",
   "mimetype": "text/x-python",
   "name": "python",
   "nbconvert_exporter": "python",
   "pygments_lexer": "ipython3",
   "version": "3.7.8"
  }
 },
 "nbformat": 4,
 "nbformat_minor": 4
}