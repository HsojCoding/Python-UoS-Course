{
 "cells": [
  {
   "cell_type": "markdown",
   "metadata": {
    "collapsed": false
   },
   "source": [
    "## Assessment: Least squares analysis\n",
    "\n",
    "In the least squares analysis method, a linear function *y = mx + c* is fitted to a series of data points $x_i\\,y_i$.\n",
    "\n",
    "The gradient *m* and the intercept *c* are calculated using\n",
    "\n",
    "$$ m = \\large{\\large{\\frac{S_{x}S_{y}-NS_{xy}}{S^{2}_{x}-NS_{xx}}}}$$ \n",
    "\n",
    "$$ c = \\large{\\large{\\frac{S_{y}-mS_{x}}{N}}} $$\n",
    "\n",
    "where *N* is the number of data points and\n",
    "\n",
    "$$ \\large{\\large{S_{x}=\\sum_{n=1}^{N}x_{i} }} $$ \n",
    "\n",
    "$$ \\large{\\large{S_{y}=\\sum_{n=1}^{N}y_{i} }} $$\n",
    "\n",
    "$$ \\large{\\large{S_{xy}=\\sum_{n=1}^{N}x_{i}y_{i} }}$$\n",
    "\n",
    "$$ \\large{\\large{S_{xx}=\\sum_{n=1}^{N}x_{i}^{2} }}$$\n",
    "\n",
    "You are to write a program that performs a least squares analysis on the $x_i\\,y_i$  data points stored in the file [PopulationData.csv](PopulationData.csv) (click on the link to open the file).\n",
    "\n",
    "First read the $x_i\\,y_i$ data points into a numpy array. Note that the population data is recorded in 'thousands'. We will wish to present all our population results in units of 'billions'."
   ]
  },
  {
   "cell_type": "markdown",
   "metadata": {
    "collapsed": false
   },
   "source": [
    "## Task 1: Create fit function [20%]\n",
    "You should pass your data structure to this function called LSfit.\n",
    "\n",
    "This will calculate and return the values of fit parameters:\n",
    "- *m* (gradient) \n",
    "- *c* (intercept) \n",
    "using the equations above."
   ]
  },
  {
   "cell_type": "markdown",
   "metadata": {
    "collapsed": false
   },
   "source": [
    "## Task 2: Create residuals function [20%]\n",
    "\n",
    "This function called **LSresid** takes three inputs:\n",
    "\n",
    "1. your data structure\n",
    "2. *m* (gradient) \n",
    "3. *c* (intercept) \n",
    "\n",
    "and for each data point, calculates:\n",
    "\n",
    "- the fitted value, $y_i^{fit}=mx_i+ c$\n",
    "- the error, $e_i= y_i - y_i^{fit}$\n",
    "\n",
    "The function should return all this information in a single numy array with 4 columns:\n",
    "1. $x_i$\n",
    "2. $y_i$\n",
    "3. $y_i^{fit}$\n",
    "4. $e_i$"
   ]
  },
  {
   "cell_type": "markdown",
   "metadata": {
    "collapsed": false
   },
   "source": [
    "## Task 3: Create a function to print results [20%]\n",
    "\n",
    "This funciton called **LSprint** prints out, to the screen:\n",
    "- the fit parameter $m$ in units of million per year\n",
    "- a table of the individual data points, the fitted value and the % error\n",
    "\n",
    "The rows in the table should be formatted **exactly** as follows:\n",
    "\n",
    "    ---------------------------------\n",
    "     Year Pop.[Bn]  Fit[Bn]   Error % \n",
    "    ---------------------------------\n",
    "     1950   2.54     2.26      12.4\n",
    "     1951   2.58     2.33      10.7\n",
    "     1952   2.63     2.41       9.1\n",
    "     …etc\n",
    "     2014   7.30     7.20       1.4\n",
    "     2015   7.38     7.28       1.4\n",
    "    ---------------------------------\n",
    "    \n",
    "Note that the desired units of population in the table are 'billions' abbreviated as 'Bn'."
   ]
  },
  {
   "cell_type": "markdown",
   "metadata": {
    "collapsed": false
   },
   "source": [
    "## Task 4: Create a function to visualise results [30%]\n",
    "This function called **LSplot** takes, as input:\n",
    "- your data structure\n",
    "- values of *m* and *c* calculated in **LSfit**\n",
    "\n",
    "The function creates two subplots:\n",
    "\n",
    "- subplot a:\n",
    "    - the population data as red triangles\n",
    "    - the fitted line shown in green \n",
    "    - legend shown\n",
    "    \n",
    "- subplot b:\n",
    "    - the fit residuals versus $x_i$ \n",
    "    - as a dashed black line\n",
    "    - no legend needed\n",
    "\n",
    "- Saves the plot to a graphical format suitable for publishing "
   ]
  }
 ],
 "metadata": {
  "kernelspec": {
   "display_name": "SageMath 9.4",
   "language": "sagemath",
   "metadata": {
    "cocalc": {
     "description": "Open-source mathematical software system",
     "priority": 10,
     "url": "https://www.sagemath.org/"
    }
   },
   "name": "sage-9.4",
   "resource_dir": "/ext/jupyter/kernels/sage-9.4"
  },
  "language_info": {
   "codemirror_mode": {
    "name": "ipython",
    "version": 2
   },
   "file_extension": ".py",
   "mimetype": "text/x-python",
   "name": "python",
   "nbconvert_exporter": "python",
   "pygments_lexer": "ipython2",
   "version": "2.7.15"
  }
 },
 "nbformat": 4,
 "nbformat_minor": 4
}